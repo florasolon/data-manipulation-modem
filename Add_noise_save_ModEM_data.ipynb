{
 "cells": [
  {
   "cell_type": "code",
   "execution_count": 5,
   "metadata": {},
   "outputs": [],
   "source": [
    "import os,sys\n",
    "import matplotlib.pyplot as plt\n",
    "import numpy as np\n",
    "import string\n",
    "import linecache"
   ]
  },
  {
   "cell_type": "code",
   "execution_count": 6,
   "metadata": {},
   "outputs": [],
   "source": [
    "% matplotlib inline"
   ]
  },
  {
   "cell_type": "code",
   "execution_count": 7,
   "metadata": {},
   "outputs": [],
   "source": [
    "im = (0.0+1.0j)"
   ]
  },
  {
   "cell_type": "markdown",
   "metadata": {},
   "source": [
    "### Data file"
   ]
  },
  {
   "cell_type": "code",
   "execution_count": 8,
   "metadata": {},
   "outputs": [],
   "source": [
    "name_file =  '/home/flora/Dropbox/IUEM/bolivia_project/ModEM/testes_forward/data/datasint_finer_final'"
   ]
  },
  {
   "cell_type": "markdown",
   "metadata": {},
   "source": [
    "Abre arquivo e organiza as colunas em vetores"
   ]
  },
  {
   "cell_type": "code",
   "execution_count": 9,
   "metadata": {},
   "outputs": [],
   "source": [
    "dat = np.loadtxt(name_file,dtype='f8',skiprows=8, usecols=(8,9))\n",
    "par = np.loadtxt(name_file,dtype='str',skiprows=8, usecols=(0,1,2,3,4,5,6,7,10))\n",
    "\n",
    "zr = dat[:,0]\n",
    "zi = dat[:,1]\n",
    "ztrue = np.abs(zr+(zi*im))"
   ]
  },
  {
   "cell_type": "markdown",
   "metadata": {},
   "source": [
    "#### Noise functions "
   ]
  },
  {
   "cell_type": "code",
   "execution_count": 10,
   "metadata": {},
   "outputs": [],
   "source": [
    "def multiplicative_noise(v,sigma, mu=0):\n",
    "    '''This function assigns a Gaussian error with zero mean\n",
    "    a given standard deviation to the input vector v.'''\n",
    "        \n",
    "    np.random.seed(1000) \n",
    "    N = len(v)\n",
    "    s = np.random.normal(mu, sigma, N)\n",
    "    vnoise = (v+(v*s))\n",
    "     \n",
    "    return vnoise\n",
    "\n",
    "def adtive_noise(v,sigma,mu=0):\n",
    "    '''This function assigns a Gaussian error with zero mean\n",
    "    a given standard deviation to the input vector v.'''\n",
    "        \n",
    "    np.random.seed(1000) \n",
    "    N = len(v)\n",
    "    std = (np.median(v)*sigma)\n",
    "    s = np.random.normal(mu, std, N)\n",
    "    vnoise = (v+s)\n",
    "     \n",
    "    return vnoise\n"
   ]
  },
  {
   "cell_type": "markdown",
   "metadata": {},
   "source": [
    "#### Calculate standart deviation"
   ]
  },
  {
   "cell_type": "code",
   "execution_count": 24,
   "metadata": {},
   "outputs": [],
   "source": [
    "err = np.array([])\n",
    "   \n",
    "zrt = np.zeros((len(zr),51))\n",
    "zit = np.zeros((len(zi),51))\n",
    "\n",
    "zrt[:,0] = zr\n",
    "zit[:,0] = zi\n",
    "    \n",
    "z = np.array([])\n",
    "    \n",
    "for n in range(1,51):\n",
    "    np.random.seed(1000) \n",
    "    #zr_aux = adtive_noise(zr,0.05)\n",
    "    #zi_aux = adtive_noise(zi,0.05)\n",
    "    zr_aux = multiplicative_noise(zr,0.1)\n",
    "    zi_aux = multiplicative_noise(zi,0.1)\n",
    "    \n",
    "    \n",
    "    zrt[:,n] = zr_aux\n",
    "    zit[:,n] = zi_aux\n",
    "    \n",
    "z = np.abs(zrt+(zit*im))\n",
    "    \n",
    "for i in range(len(zr)):\n",
    "    z_std = np.std(z[i,:])\n",
    "    err =  np.hstack((err,z_std))\n"
   ]
  },
  {
   "cell_type": "code",
   "execution_count": null,
   "metadata": {},
   "outputs": [],
   "source": []
  },
  {
   "cell_type": "code",
   "execution_count": 25,
   "metadata": {},
   "outputs": [],
   "source": [
    "#zrn = adtive_noise(zr,0.05)\n",
    "#zin = adtive_noise(zi,0.05)\n",
    "\n",
    "zrn = multiplicative_noise(zr,0.1)\n",
    "zin = multiplicative_noise(zi,0.1)"
   ]
  },
  {
   "cell_type": "markdown",
   "metadata": {},
   "source": [
    "#### Save to ModEM data format "
   ]
  },
  {
   "cell_type": "code",
   "execution_count": 22,
   "metadata": {
    "scrolled": true
   },
   "outputs": [],
   "source": [
    "new_file = '/home/flora/Dropbox/IUEM/bolivia_project/ModEM/testes_forward/data/'"
   ]
  },
  {
   "cell_type": "code",
   "execution_count": 26,
   "metadata": {},
   "outputs": [],
   "source": [
    "import csv\n",
    "\n",
    "with open(name_file,'r') as file_modem:\n",
    "    lines_header = file_modem.readlines() # read all lines\n",
    "\n",
    "with open(new_file + 'data_sint_noise_1err','w') as datasint:\n",
    "    datasint.writelines(lines_header[0:8])\n",
    "    writer = csv.writer(datasint, delimiter='\\t')\n",
    "    writer.writerows(zip(par[:,0],par[:,1],par[:,2],par[:,3],par[:,4],par[:,5],par[:,6],par[:,7],zrn,zin,err))\n",
    "    "
   ]
  },
  {
   "cell_type": "code",
   "execution_count": null,
   "metadata": {},
   "outputs": [],
   "source": []
  },
  {
   "cell_type": "code",
   "execution_count": null,
   "metadata": {},
   "outputs": [],
   "source": []
  }
 ],
 "metadata": {
  "kernelspec": {
   "display_name": "Python 2",
   "language": "python",
   "name": "python2"
  },
  "language_info": {
   "codemirror_mode": {
    "name": "ipython",
    "version": 2
   },
   "file_extension": ".py",
   "mimetype": "text/x-python",
   "name": "python",
   "nbconvert_exporter": "python",
   "pygments_lexer": "ipython2",
   "version": "2.7.14"
  }
 },
 "nbformat": 4,
 "nbformat_minor": 1
}
